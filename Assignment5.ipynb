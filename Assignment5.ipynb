{
 "cells": [
  {
   "cell_type": "code",
   "execution_count": 1,
   "id": "e6b5a6eb-6e71-4c7e-b0e0-e2a6b751e553",
   "metadata": {},
   "outputs": [],
   "source": [
    "#Q.2\n",
    "l = [1,2,3,4,5,6,7,8,9,10]"
   ]
  },
  {
   "cell_type": "code",
   "execution_count": 2,
   "id": "63071f11-a01e-42c2-84b1-3b4f04b40cbd",
   "metadata": {},
   "outputs": [
    {
     "data": {
      "text/plain": [
       "[1, 4, 9, 16, 25, 36, 49, 64, 81, 100]"
      ]
     },
     "execution_count": 2,
     "metadata": {},
     "output_type": "execute_result"
    }
   ],
   "source": [
    "list(map(lambda x: x**2,l))"
   ]
  },
  {
   "cell_type": "code",
   "execution_count": 2,
   "id": "9f4f5816-a4e1-4c62-a12a-4f00ef4d17ca",
   "metadata": {},
   "outputs": [
    {
     "data": {
      "text/plain": [
       "('1', '2', '3', '4', '5', '6', '7', '8', '9', '10')"
      ]
     },
     "execution_count": 2,
     "metadata": {},
     "output_type": "execute_result"
    }
   ],
   "source": [
    "#Q.3\n",
    "l1 =  [1, 2, 3, 4, 5, 6, 7, 8, 9, 10]\n",
    "list(map(str,l1))\n",
    "tuple(map(str,l1))"
   ]
  },
  {
   "cell_type": "code",
   "execution_count": 5,
   "id": "1b778732-6c1c-492c-ae7f-1fc01b2f0a43",
   "metadata": {},
   "outputs": [],
   "source": [
    "#Q.4\n",
    "from functools import reduce\n",
    "l2 = [1,2,3,4,5,6,7,8,9,10,11,12,13,14,15,16,17,18,19,20,21,22,23,24,25]"
   ]
  },
  {
   "cell_type": "code",
   "execution_count": 6,
   "id": "b9120610-3421-42a5-8a51-3c97e11dacb6",
   "metadata": {},
   "outputs": [
    {
     "data": {
      "text/plain": [
       "325"
      ]
     },
     "execution_count": 6,
     "metadata": {},
     "output_type": "execute_result"
    }
   ],
   "source": [
    "reduce(lambda x, y: x+y ,l2)"
   ]
  },
  {
   "cell_type": "code",
   "execution_count": 7,
   "id": "deddd5f3-d06a-4d24-a79f-3467c041444c",
   "metadata": {},
   "outputs": [],
   "source": [
    "#Q.5\n",
    "l3 = [2, 3, 6, 9, 27, 60, 90, 120, 55, 46]"
   ]
  },
  {
   "cell_type": "code",
   "execution_count": 9,
   "id": "32b52ab3-75f1-46a1-96c2-b8ad25eb633a",
   "metadata": {},
   "outputs": [
    {
     "data": {
      "text/plain": [
       "[2, 3, 6, 9, 27, 60, 90, 120, 46]"
      ]
     },
     "execution_count": 9,
     "metadata": {},
     "output_type": "execute_result"
    }
   ],
   "source": [
    "list(filter(lambda x: x%2==0 or x%3==0,l3))"
   ]
  },
  {
   "cell_type": "code",
   "execution_count": null,
   "id": "f683e7a4-1986-45b2-9a2b-21fc60bc2021",
   "metadata": {},
   "outputs": [],
   "source": [
    "#Q.6\n",
    "texts = [\"php\", \"w3r\", \"Python\", \"abcd\", \"Java\", \"aaa\"]\n",
    "print(\"Orginal list of strings:\")\n",
    "print(texts) \n",
    "result = list(filter(lambda x: (x == \"\".join(reversed(x))), texts)) \n",
    "print(\"\\nList of palindromes:\")\n",
    "print(result) "
   ]
  }
 ],
 "metadata": {
  "kernelspec": {
   "display_name": "Python 3 (ipykernel)",
   "language": "python",
   "name": "python3"
  },
  "language_info": {
   "codemirror_mode": {
    "name": "ipython",
    "version": 3
   },
   "file_extension": ".py",
   "mimetype": "text/x-python",
   "name": "python",
   "nbconvert_exporter": "python",
   "pygments_lexer": "ipython3",
   "version": "3.10.8"
  }
 },
 "nbformat": 4,
 "nbformat_minor": 5
}
